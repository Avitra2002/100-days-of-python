{
 "cells": [
  {
   "cell_type": "code",
   "execution_count": null,
   "metadata": {},
   "outputs": [],
   "source": [
    "### Day 6- Moving Reeborg's, jumping over variable heights\n",
    "def turn_right():\n",
    "    for i in range(3):\n",
    "        turn_left()\n",
    "    \n",
    " \n",
    "def jump():\n",
    "    turn_left()\n",
    "    while wall_on_right():\n",
    "        move()\n",
    "    turn_right()\n",
    "    move()\n",
    "    turn_right()\n",
    "    while front_is_clear():\n",
    "        move()\n",
    "    turn_left()\n",
    "        \n",
    "    \n",
    "while not at_goal():\n",
    "    if wall_in_front():\n",
    "        jump()\n",
    "    else:\n",
    "        move()"
   ]
  },
  {
   "cell_type": "code",
   "execution_count": null,
   "metadata": {},
   "outputs": [],
   "source": [
    "### Day 6- Maze\n",
    "def turn_right():\n",
    "    for i in range(3):\n",
    "        turn_left()\n",
    "    \n",
    " \n",
    "while front_is_clear():\n",
    "    move()\n",
    "turn_left()\n",
    "\n",
    "while not at_goal():\n",
    "    if right_is_clear():\n",
    "        turn_right()\n",
    "        move()\n",
    "    elif front_is_clear():\n",
    "        move()\n",
    "        \n",
    "    else:\n",
    "        turn_left()\n",
    "        "
   ]
  }
 ],
 "metadata": {
  "language_info": {
   "name": "python"
  }
 },
 "nbformat": 4,
 "nbformat_minor": 2
}
