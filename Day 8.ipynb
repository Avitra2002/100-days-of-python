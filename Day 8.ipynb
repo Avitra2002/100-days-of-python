{
 "cells": [
  {
   "cell_type": "code",
   "execution_count": null,
   "metadata": {},
   "outputs": [],
   "source": [
    "### Lesson 20 Day 8- Paint area calculator\n",
    "import math\n",
    "# Write your code below this line 👇\n",
    "def paint_calc(height, width, cover):\n",
    "  number= height * width/ cover\n",
    "  number= math.ceil(number)\n",
    "  print(f\"You'll need {number} cans of paint.\")\n",
    "  \n",
    "\n",
    "\n",
    "\n",
    "# Write your code above this line 👆\n",
    "# Define a function called paint_calc() so the code below works.   \n",
    "\n",
    "# 🚨 Don't change the code below 👇\n",
    "test_h = int(input()) # Height of wall (m)\n",
    "test_w = int(input()) # Width of wall (m)\n",
    "coverage = 5\n",
    "paint_calc(height=test_h, width=test_w, cover=coverage)\n"
   ]
  },
  {
   "cell_type": "code",
   "execution_count": null,
   "metadata": {},
   "outputs": [],
   "source": [
    "### Lesson 21 Day 8- Prime Numbers\n",
    "# Write your code below this line 👇\n",
    "def prime_checker(number):\n",
    "  counter=0\n",
    "  for i in range(1,number+1):\n",
    "    if number%i ==0:\n",
    "      counter+=1\n",
    "  if counter>2:\n",
    "    print(\"It's not a prime number.\")\n",
    "  else:\n",
    "    print(\"It's a prime number.\")\n",
    "\n",
    "\n",
    "\n",
    "\n",
    "\n",
    "# Write your code above this line 👆\n",
    "    \n",
    "#Do NOT change any of the code below👇\n",
    "n = int(input()) # Check this number\n",
    "prime_checker(number=n)"
   ]
  },
  {
   "cell_type": "code",
   "execution_count": 1,
   "metadata": {},
   "outputs": [
    {
     "name": "stdout",
     "output_type": "stream",
     "text": [
      "Here's the decoded result:hello\n",
      "\n",
      "Over\n"
     ]
    }
   ],
   "source": [
    "### Day 8- Encryption\n",
    "alphabet=['a','b','c','d','e','f','g','h','i','j','k','l','m','n','o','p','q','r','s','t','u','v','w','x','y','z']\n",
    "\n",
    "def encrypt(text, shift):\n",
    "    position=0\n",
    "    code=\"\"\n",
    "    for char in text:\n",
    "        for idx in range(len(alphabet)):\n",
    "            if alphabet[idx]== char:\n",
    "                position=idx\n",
    "                translate= (position+shift) % len(alphabet) ## to wrap around to the top\n",
    "                code+=alphabet[translate]\n",
    "    print(f\"Here's the encoded result:{code}\\n\")\n",
    "\n",
    "def decrypt(text,shift):\n",
    "    message=\"\"\n",
    "    for char in text:\n",
    "       position= alphabet.index(char)\n",
    "       translate= (position-shift) % len(alphabet)\n",
    "       message+= alphabet[translate]\n",
    "    print(f\"Here's the decoded result:{message}\\n\")\n",
    "    \n",
    "def start():   \n",
    "    direction= input(\"Type 'encode' to encrypt and 'decode to decrpyt:\\n\")\n",
    "    if direction==\"encode\":\n",
    "        text= input(\"Type your message:\\n\").lower() \n",
    "        shift= int(input(\"Type the shift number:\\n\"))\n",
    "        encrypt(text, shift)\n",
    "    else:\n",
    "        text= input(\"Type your message:\\n\").lower() \n",
    "        shift= int(input(\"Type the shift number:\\n\"))\n",
    "        decrypt(text, shift)\n",
    "\n",
    "## restart\n",
    "start()\n",
    "\n",
    "while True:\n",
    "    choice= input(\"Type 'yes' if you want to go again. Otherwise 'no'\\n\").lower()\n",
    "    if choice=='yes':\n",
    "        start()\n",
    "    else:\n",
    "        print(\"Over\")\n",
    "        break\n",
    "    \n",
    "\n",
    "\n"
   ]
  },
  {
   "cell_type": "code",
   "execution_count": 11,
   "metadata": {},
   "outputs": [
    {
     "name": "stdout",
     "output_type": "stream",
     "text": [
      "Here's the encoded result: mjqqt\n",
      "\n",
      "Here's the encoded result: nkrru\n",
      "\n",
      "Over\n"
     ]
    }
   ],
   "source": [
    "state = True\n",
    "alphabet = ['a', 'b', 'c', 'd', 'e', 'f', 'g', 'h', 'i', 'j', 'k', 'l', 'm', 'n', 'o', 'p', 'q', 'r', 's', 't', 'u', 'v', 'w', 'x', 'y', 'z']\n",
    "\n",
    "def restart():\n",
    "    choice = input(\"Type 'yes' if you want to go again. Otherwise 'no'\\n\").lower()\n",
    "    if choice == 'yes':\n",
    "        return True\n",
    "    elif choice == 'no':\n",
    "        print(\"Over\")\n",
    "        return False\n",
    "    else:\n",
    "        print(\"Invalid choice. Please type 'yes' or 'no'.\")\n",
    "        return restart()  # Recursively ask again\n",
    "\n",
    "def caesar():\n",
    "    direction = input(\"Type 'encode' to encrypt and 'decode' to decrypt:\\n\")\n",
    "    text = input(\"Type your message:\\n\").lower()\n",
    "    shift = int(input(\"Type the shift number:\\n\"))\n",
    "    message = \"\"\n",
    "    for char in text:\n",
    "        if char in alphabet:\n",
    "            position = alphabet.index(char)\n",
    "            if direction == \"encode\":\n",
    "                translate = (position + shift) % len(alphabet)\n",
    "            else:\n",
    "                translate = (position - shift) % len(alphabet)\n",
    "            message += alphabet[translate]\n",
    "        else:\n",
    "            message += char  # For non-alphabetic characters\n",
    "    print(f\"Here's the {direction}d result: {message}\\n\")\n",
    "\n",
    "# Main loop\n",
    "while True:\n",
    "    caesar()\n",
    "    if not restart():\n",
    "        break\n"
   ]
  },
  {
   "cell_type": "code",
   "execution_count": 12,
   "metadata": {},
   "outputs": [
    {
     "name": "stdout",
     "output_type": "stream",
     "text": [
      "Here's the encoded result: mjqqt\n",
      "\n",
      "Here's the hellod result: 6\n",
      "\n",
      "Over\n"
     ]
    }
   ],
   "source": [
    "### more optimised\n",
    "state = True\n",
    "alphabet = ['a', 'b', 'c', 'd', 'e', 'f', 'g', 'h', 'i', 'j', 'k', 'l', 'm', 'n', 'o', 'p', 'q', 'r', 's', 't', 'u', 'v', 'w', 'x', 'y', 'z']\n",
    "\n",
    "def caesar():\n",
    "    while True:\n",
    "        direction = input(\"Type 'encode' to encrypt and 'decode' to decrypt:\\n\")\n",
    "        text = input(\"Type your message:\\n\").lower()\n",
    "        shift = int(input(\"Type the shift number:\\n\"))\n",
    "\n",
    "        message = \"\"\n",
    "        for char in text:\n",
    "            if char in alphabet:\n",
    "                position = alphabet.index(char)\n",
    "                if direction == \"encode\":\n",
    "                    translate = (position + shift) % len(alphabet)\n",
    "                else:\n",
    "                    translate = (position - shift) % len(alphabet)\n",
    "                message += alphabet[translate]\n",
    "            else:\n",
    "                message += char  # For non-alphabetic characters\n",
    "\n",
    "        print(f\"Here's the {direction}d result: {message}\\n\")\n",
    "\n",
    "        choice = input(\"Type 'yes' if you want to go again. Otherwise 'no'\\n\").lower()\n",
    "        if choice == 'no':\n",
    "            print(\"Over\")\n",
    "            break\n",
    "        elif choice != 'yes':\n",
    "            print(\"Invalid choice. Please type 'yes' or 'no'.\")\n",
    "\n",
    "caesar()\n"
   ]
  },
  {
   "cell_type": "code",
   "execution_count": null,
   "metadata": {},
   "outputs": [],
   "source": []
  }
 ],
 "metadata": {
  "kernelspec": {
   "display_name": "base",
   "language": "python",
   "name": "python3"
  },
  "language_info": {
   "codemirror_mode": {
    "name": "ipython",
    "version": 3
   },
   "file_extension": ".py",
   "mimetype": "text/x-python",
   "name": "python",
   "nbconvert_exporter": "python",
   "pygments_lexer": "ipython3",
   "version": "3.9.13"
  }
 },
 "nbformat": 4,
 "nbformat_minor": 2
}
