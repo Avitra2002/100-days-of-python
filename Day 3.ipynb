{
 "cells": [
  {
   "cell_type": "markdown",
   "metadata": {},
   "source": [
    "### Day 3"
   ]
  },
  {
   "cell_type": "code",
   "execution_count": 1,
   "metadata": {},
   "outputs": [
    {
     "name": "stdout",
     "output_type": "stream",
     "text": [
      "This is an even number.\n"
     ]
    }
   ],
   "source": [
    "### Lesson 8 Day 3- Even or Odd\n",
    "# Which number do you want to check?\n",
    "number = int(input())\n",
    "# 🚨 Don't change the code above 👆\n",
    "\n",
    "# Write your code below this line 👇\n",
    "if number %2==0:\n",
    "  print(\"This is an even number.\")\n",
    "else:\n",
    "  print(\"This is an odd number.\")"
   ]
  },
  {
   "cell_type": "code",
   "execution_count": 2,
   "metadata": {},
   "outputs": [
    {
     "name": "stdout",
     "output_type": "stream",
     "text": [
      "Your BMI is 20.07960127648894, you are normal weight.\n"
     ]
    }
   ],
   "source": [
    "### Leasson 9 Day 3- BMI 2.0\n",
    "# Enter your height in meters e.g., 1.55\n",
    "height = float(input())\n",
    "# Enter your weight in kilograms e.g., 72\n",
    "weight = int(input())\n",
    "# 🚨 Don't change the code above 👆\n",
    "\n",
    "#Write your code below this line 👇\n",
    "bmi= weight/ (height**2)\n",
    "if bmi < 18.5:\n",
    "  print(f\"Your BMI is {bmi}, you are underweight.\")\n",
    "elif 18.5<=bmi<25:\n",
    "  print(f\"Your BMI is {bmi}, you are normal weight.\")\n",
    "elif 25<=bmi<30:\n",
    "  print(f\"Your BMI is {bmi}, you are slightly overweight.\")\n",
    "elif 30<=bmi<35:\n",
    "  print(f\"Your BMI is {bmi}, you are obese.\")\n",
    "else:\n",
    "  print(f\"Your BMI is {bmi}, you are clinically obese.\")\n"
   ]
  },
  {
   "cell_type": "code",
   "execution_count": 4,
   "metadata": {},
   "outputs": [
    {
     "name": "stdout",
     "output_type": "stream",
     "text": [
      "Your BMI is 20.07960127648894, you have a normal weight.\n"
     ]
    }
   ],
   "source": [
    "### Lesson 10 Day 3- Leap Year\n",
    "# Which year do you want to check?\n",
    "# Which year do you want to check?\n",
    "year = int(input())\n",
    "# 🚨 Don't change the code above 👆\n",
    "\n",
    "# Write your code below this line 👇\n",
    "if year %4==0:\n",
    "  if year %100 ==0 and year%400==0:\n",
    "    print(\"Leap year\")\n",
    "  elif year %100 !=0:\n",
    "    print(\"Leap year\")\n",
    "  else:\n",
    "    print(\"Not leap year\")\n",
    "else:\n",
    "  print('Not leap year')"
   ]
  },
  {
   "cell_type": "code",
   "execution_count": null,
   "metadata": {},
   "outputs": [],
   "source": [
    "### Lesson 11 Day 3- Python Pizza Deliveries\n",
    "print(\"Thank you for choosing Python Pizza Deliveries!\")\n",
    "size = input() # What size pizza do you want? S, M, or L\n",
    "add_pepperoni = input() # Do you want pepperoni? Y or N\n",
    "extra_cheese = input() # Do you want extra cheese? Y or N\n",
    "# 🚨 Don't change the code above 👆\n",
    "# Write your code below this line 👇\n",
    "cost=0\n",
    "if size==\"S\":\n",
    "  cost+=15\n",
    "  if add_pepperoni==\"Y\":\n",
    "    cost+=2\n",
    "elif size==\"M\":\n",
    "  cost+=20\n",
    "  if add_pepperoni==\"Y\":\n",
    "    cost +=3\n",
    "else:\n",
    "  cost+=25\n",
    "  if add_pepperoni==\"Y\":\n",
    "    cost +=3\n",
    "    \n",
    "if extra_cheese==\"Y\":\n",
    "  cost+=1\n",
    "\n",
    "print(f\"Your final bill is: ${cost}.\")"
   ]
  },
  {
   "cell_type": "code",
   "execution_count": null,
   "metadata": {},
   "outputs": [],
   "source": [
    "### Lesson 12 Day 3- Love calculator\n",
    "print(\"The Love Calculator is calculating your score...\")\n",
    "name1 = input() # What is your name?\n",
    "name2 = input() # What is their name?\n",
    "# 🚨 Don't change the code above 👆\n",
    "# Write your code below this line 👇\n",
    "name= name1+name2\n",
    "counter1=0\n",
    "counter2=0\n",
    "for char in name:\n",
    "  if char==\"T\" or char==\"R\" or char==\"U\" or char==\"E\" or char==\"t\" or char==\"r\" or char==\"u\" or char==\"e\":\n",
    "    counter1+=1\n",
    "  if char==\"L\" or char==\"O\"or char==\"V\" or char==\"E\" or char==\"l\" or char==\"o\"or char==\"v\" or char==\"e\":\n",
    "    counter2+=1\n",
    "combine= int(str(counter1)+str(counter2))\n",
    "\n",
    "if combine<10 or combine>90:\n",
    "  print(f\"Your score is {combine}, you go together like coke and mentos.\")\n",
    "elif 40 <= combine <=50:\n",
    "  print(f\"Your score is {combine}, you are alright together.\")\n",
    "else:\n",
    "  print(f\"Your score is {combine}.\")\n"
   ]
  },
  {
   "cell_type": "code",
   "execution_count": 3,
   "metadata": {},
   "outputs": [
    {
     "name": "stdout",
     "output_type": "stream",
     "text": [
      "Welcome to Treasure Island. Your mission is to find the treasure.\n",
      "You have been attacked by a trout. Game Over\n"
     ]
    }
   ],
   "source": [
    "### Day 3 Project\n",
    "print(\"Welcome to Treasure Island. Your mission is to find the treasure.\")\n",
    "direction= input(\"You're at a cross road. Where do you want to go? Type 'left' or 'right'\")\n",
    "if direction==\"left\":\n",
    "    task= input(\"You've come to a lake. There is an island in the middle of the lake. Type 'wait' to wait for the boat or type 'swim' to swim across\")\n",
    "    if task ==\"wait\":\n",
    "        color= input(\"You arrive at the island unharmed. There is a house with 3 doors. One red, one yellow and one blue. Which colour do you choose?\")\n",
    "        if color==\"Yellow\" or color==\"yellow\":\n",
    "            print(\"You Win\")\n",
    "        elif color==\"Blue\" or color==\"blue\":\n",
    "            print(\"You have been eaten by the beast. Game Over\")\n",
    "        elif color == \"Red\" or color==\"red\":\n",
    "            print(\"You'be been burned by fire. Game Over\")\n",
    "        else:\n",
    "            print(\"game over\")\n",
    "    else:\n",
    "         print(\"You have been attacked by a trout. Game Over\")   \n",
    "\n",
    "else:\n",
    "    print(\"You have fallen into a hole. Game Over.\")\n"
   ]
  },
  {
   "cell_type": "code",
   "execution_count": null,
   "metadata": {},
   "outputs": [],
   "source": []
  }
 ],
 "metadata": {
  "kernelspec": {
   "display_name": "base",
   "language": "python",
   "name": "python3"
  },
  "language_info": {
   "codemirror_mode": {
    "name": "ipython",
    "version": 3
   },
   "file_extension": ".py",
   "mimetype": "text/x-python",
   "name": "python",
   "nbconvert_exporter": "python",
   "pygments_lexer": "ipython3",
   "version": "3.9.13"
  }
 },
 "nbformat": 4,
 "nbformat_minor": 2
}
