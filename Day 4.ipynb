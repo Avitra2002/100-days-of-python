{
 "cells": [
  {
   "cell_type": "markdown",
   "metadata": {},
   "source": [
    "### Day 4"
   ]
  },
  {
   "cell_type": "code",
   "execution_count": 1,
   "metadata": {},
   "outputs": [
    {
     "name": "stdout",
     "output_type": "stream",
     "text": [
      "Heads\n"
     ]
    }
   ],
   "source": [
    "### Lesson 13 Day4- Heads or Tails\n",
    "# Write your code below this line 👇\n",
    "# Hint: Remember to import the random module first. 🎲\n",
    "import random\n",
    "ls= [0,1]\n",
    "chosen= random.choice(ls)\n",
    "if chosen==1:\n",
    "  print(\"Heads\")\n",
    "else:\n",
    "  print(\"Tails\")"
   ]
  },
  {
   "cell_type": "code",
   "execution_count": 4,
   "metadata": {},
   "outputs": [
    {
     "name": "stdout",
     "output_type": "stream",
     "text": [
      "ANgie is going to buy the meal today!\n"
     ]
    }
   ],
   "source": [
    "### Lesson 14 Day4 - Bank Roullete\n",
    "give= input(\"Input the names with comma followed by space bar (, )\")\n",
    "names = give.split(\", \")\n",
    "# The code above converts the input into an array seperating\n",
    "#each name in the input by a comma and space.\n",
    "# 🚨 Don't change the code above 👆\n",
    "choosen= random.choice(names)\n",
    "print(f\"{choosen} is going to buy the meal today!\")"
   ]
  },
  {
   "cell_type": "code",
   "execution_count": null,
   "metadata": {},
   "outputs": [],
   "source": [
    "### Lesson 15 Day4 - Tressure Hunt using dict\n",
    "line1 = [\"⬜️\",\"️⬜️\",\"️⬜️\"]\n",
    "line2 = [\"⬜️\",\"⬜️\",\"️⬜️\"]\n",
    "line3 = [\"⬜️️\",\"⬜️️\",\"⬜️️\"]\n",
    "map = [line1, line2, line3]\n",
    "print(\"Hiding your treasure! X marks the spot.\")\n",
    "position = input() # Where do you want to put the treasure?\n",
    "# 🚨 Don't change the code above 👆\n",
    "# Write your code below this row 👇\n",
    "\n",
    "column={'A':0,'B':1,'C':2,}\n",
    "col= position[0]\n",
    "ind= column[col]\n",
    "row=position[1]\n",
    "if row==\"1\":\n",
    "  line1[ind]=\"X\"\n",
    "elif row==\"2\":\n",
    "  line2[ind]=\"X\"\n",
    "elif row==\"3\":\n",
    "  line3[ind]=\"X\"\n",
    "# Write your code above this row 👆\n",
    "# 🚨 Don't change the code below 👇\n",
    "print(f\"{line1}\\n{line2}\\n{line3}\")\n",
    "\n"
   ]
  },
  {
   "cell_type": "code",
   "execution_count": null,
   "metadata": {},
   "outputs": [],
   "source": [
    "### Lesson 15 Day 4- Tressure Hunt using .index\n",
    "line1 = [\"⬜️\",\"️⬜️\",\"️⬜️\"]\n",
    "line2 = [\"⬜️\",\"⬜️\",\"️⬜️\"]\n",
    "line3 = [\"⬜️️\",\"⬜️️\",\"⬜️️\"]\n",
    "map = [line1, line2, line3]\n",
    "print(\"Hiding your treasure! X marks the spot.\")\n",
    "position = input() # Where do you want to put the treasure?\n",
    "# Your code below\n",
    "letter = position[0].lower()\n",
    "abc = [\"a\", \"b\", \"c\"]\n",
    "letter_index = abc.index(letter)\n",
    "number_index = int(position[1]) - 1\n",
    "map[number_index][letter_index] = \"X\"\n"
   ]
  },
  {
   "cell_type": "code",
   "execution_count": 16,
   "metadata": {},
   "outputs": [
    {
     "name": "stdout",
     "output_type": "stream",
     "text": [
      "You have chosen Paper and the computer has chosen Rock. You win.\n"
     ]
    }
   ],
   "source": [
    "#Day 4 Project\n",
    "import random\n",
    "dict= {\"0\":\"Rock\",\"1\":\"Paper\", \"2\":\"Scissors\" }\n",
    "user=input(\"What do you choose? Type 0 for Rock, 1 for Paper, and 2 for Scissors.\")\n",
    "\n",
    "ls= [\"0\",\"1\",\"2\"]\n",
    "user_chosen= dict[user]\n",
    "comp_chosen= dict[random.choice(ls)]\n",
    "\n",
    "if user_chosen == comp_chosen:\n",
    "    print(f\"You have chosen {user_chosen} and the computer has chosen {comp_chosen}. It is a draw.\")\n",
    "elif user_chosen==\"Rock\" and comp_chosen==\"Scissors\":\n",
    "    print(f\"You have chosen {user_chosen} and the computer has chosen {comp_chosen}. You win.\")\n",
    "elif user_chosen==\"Paper\" and comp_chosen==\"Rock\":\n",
    "    print(f\"You have chosen {user_chosen} and the computer has chosen {comp_chosen}. You win.\")\n",
    "elif user_chosen==\"Scissors\" and comp_chosen==\"Paper\":\n",
    "    print(f\"You have chosen {user_chosen} and the computer has chosen {comp_chosen}. You win.\")\n",
    "else:\n",
    "    print(f\"You have chosen {user_chosen} and the computer has chosen {comp_chosen}. You lost.\")\n",
    "\n"
   ]
  },
  {
   "cell_type": "code",
   "execution_count": null,
   "metadata": {},
   "outputs": [],
   "source": []
  }
 ],
 "metadata": {
  "kernelspec": {
   "display_name": "base",
   "language": "python",
   "name": "python3"
  },
  "language_info": {
   "codemirror_mode": {
    "name": "ipython",
    "version": 3
   },
   "file_extension": ".py",
   "mimetype": "text/x-python",
   "name": "python",
   "nbconvert_exporter": "python",
   "pygments_lexer": "ipython3",
   "version": "3.9.13"
  }
 },
 "nbformat": 4,
 "nbformat_minor": 2
}
