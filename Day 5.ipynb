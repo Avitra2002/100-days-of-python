{
 "cells": [
  {
   "cell_type": "markdown",
   "metadata": {},
   "source": [
    "### Day 5"
   ]
  },
  {
   "cell_type": "code",
   "execution_count": null,
   "metadata": {},
   "outputs": [],
   "source": [
    "### Lesson 16 Day 5- Average Height using for loop\n",
    "# Input a Python list of student heights\n",
    "student_heights = input().split()\n",
    "sum= 0\n",
    "for n in range(0, len(student_heights)):\n",
    "  student_heights[n] = int(student_heights[n])\n",
    "# 🚨 Don't change the code above 👆\n",
    "  sum += student_heights[n]\n",
    "\n",
    "avg= round(sum/len(student_heights))\n",
    "print(f\"\"\"total height = {sum}\\nnumber of students = {len(student_heights)}\\naverage height = {avg}\"\"\")\n"
   ]
  },
  {
   "cell_type": "code",
   "execution_count": null,
   "metadata": {},
   "outputs": [],
   "source": [
    "### Lesson 17 Day 5- Highest score using for loop\n",
    "# Input a list of student scores\n",
    "student_scores = input().split()\n",
    "for n in range(0, len(student_scores)):\n",
    "  student_scores[n] = int(student_scores[n]) ## converting all into int\n",
    "\n",
    "# Write your code below this row 👇\n",
    "highest= student_scores[0]\n",
    "for scores in student_scores[1:]:\n",
    "  if scores> highest:\n",
    "    highest= scores\n",
    "print(f'The highest score in the class is: {highest}')"
   ]
  },
  {
   "cell_type": "code",
   "execution_count": null,
   "metadata": {},
   "outputs": [],
   "source": [
    "### Lesson 18 Day 5- Adding Even numbers\n",
    "target = int(input()) # Number between 0 and 1000\n",
    "# Your code here 👇\n",
    "even_sum = 0\n",
    "for number in range(2, target + 1, 2):\n",
    "  even_sum += number\n",
    "print(even_sum)"
   ]
  },
  {
   "cell_type": "code",
   "execution_count": null,
   "metadata": {},
   "outputs": [],
   "source": [
    "### Lesson 19 Day 5- Fizzbuzz\n",
    "# Write your code here 👇\n",
    "for i in range(1,101):\n",
    "  if i %3==0:\n",
    "    if i%5==0:\n",
    "      print(\"FizzBuzz\")\n",
    "    else:\n",
    "      print(\"Fizz\")\n",
    "  elif i% 5==0:\n",
    "    # if i%3==0:\n",
    "    #   print(\"FizzBuzz\")\n",
    "    # else:\n",
    "      print(\"Buzz\")\n",
    "  else:\n",
    "    print(i)"
   ]
  },
  {
   "cell_type": "code",
   "execution_count": 9,
   "metadata": {},
   "outputs": [
    {
     "name": "stdout",
     "output_type": "stream",
     "text": [
      "Welcome to the Pypassword Generator\n",
      "aAS&IL3CS6GQ$7\n"
     ]
    }
   ],
   "source": [
    "### Day 5-Project\n",
    "import random\n",
    "letters= ['a', 'b', 'c', 'd','e','f','g','h', 'i', 'j','k', 'l','m','n','o','p', 'q', 'r', 's', 't', 'u','v','w', 'x','y','z','A', 'B', 'C', 'D', 'E', 'F', 'G', 'H', 'I', 'J', 'K', 'L', 'M', 'N', 'O', 'P', 'Q', 'R', 'S', 'T', 'U', 'V', 'W', 'X', 'Y', 'Z']\n",
    "numbers=['0', '1', '2','3', '4','5','6', '7','8', '9']\n",
    "symbols= ['!', '#', '$', '%','&','(',')','*','+']\n",
    "\n",
    "print(\"Welcome to the Pypassword Generator\")\n",
    "nr_letters= int(input(\"How many letters would you like in your password?\\n\"))\n",
    "nr_symbols= int(input(\"How many symbols would you like?\\n\"))\n",
    "nr_numbers= int(input(\"How many numbers woudl you like?\\n\"))\n",
    "password=[]\n",
    "##getting the symbols\n",
    "for i in range(nr_symbols):\n",
    "    sym= random.choice(symbols)\n",
    "    password+=sym\n",
    "\n",
    "##getting the numbers\n",
    "for j in range(nr_numbers):\n",
    "    num= random.choice(numbers)\n",
    "    password+=num\n",
    "\n",
    "##getting the characters\n",
    "for k in range(nr_letters- nr_symbols- nr_numbers):\n",
    "    char= random.choice(letters)\n",
    "    password+=char\n",
    "random.shuffle(password)\n",
    "password=\"\".join(password)\n",
    "print(password)"
   ]
  },
  {
   "cell_type": "code",
   "execution_count": null,
   "metadata": {},
   "outputs": [],
   "source": []
  },
  {
   "cell_type": "code",
   "execution_count": null,
   "metadata": {},
   "outputs": [],
   "source": []
  }
 ],
 "metadata": {
  "kernelspec": {
   "display_name": "base",
   "language": "python",
   "name": "python3"
  },
  "language_info": {
   "codemirror_mode": {
    "name": "ipython",
    "version": 3
   },
   "file_extension": ".py",
   "mimetype": "text/x-python",
   "name": "python",
   "nbconvert_exporter": "python",
   "pygments_lexer": "ipython3",
   "version": "3.9.13"
  }
 },
 "nbformat": 4,
 "nbformat_minor": 2
}
