{
 "cells": [
  {
   "cell_type": "markdown",
   "metadata": {},
   "source": [
    "### Day 2"
   ]
  },
  {
   "cell_type": "code",
   "execution_count": 1,
   "metadata": {},
   "outputs": [
    {
     "name": "stdout",
     "output_type": "stream",
     "text": [
      "7\n"
     ]
    }
   ],
   "source": [
    "### lesson 5 Day 2- Data Type\n",
    "##adding the digits to in a number\n",
    "two_digit_number = input()\n",
    "# 🚨 Don't change the code above 👆\n",
    "####################################\n",
    "# Write your code below this line 👇\n",
    "counter=0\n",
    "for numbers in two_digit_number:\n",
    "  counter+= int(numbers)\n",
    "print(counter)"
   ]
  },
  {
   "cell_type": "code",
   "execution_count": 3,
   "metadata": {},
   "outputs": [
    {
     "name": "stdout",
     "output_type": "stream",
     "text": [
      "17\n"
     ]
    }
   ],
   "source": [
    "### lesson 6 Day 2- BMI calculator\n",
    "# 1st input: enter height in meters e.g: 1.65\n",
    "height = float(input())\n",
    "# 2nd input: enter weight in kilograms e.g: 72\n",
    "weight = float(input())\n",
    "# 🚨 Don't change the code above 👆\n",
    "\n",
    "# Write your code below this line 👇\n",
    "BMI= weight/(height**2)\n",
    "print(int(BMI))"
   ]
  },
  {
   "cell_type": "code",
   "execution_count": 10,
   "metadata": {},
   "outputs": [
    {
     "name": "stdout",
     "output_type": "stream",
     "text": [
      "You have 1768 weeks left.\n"
     ]
    }
   ],
   "source": [
    "### lesson 7 Day 2- Life in weeks\n",
    "age = input()\n",
    "# 🚨 Don't change the code above 👆\n",
    "# Write your code below this line 👇\n",
    "years= 90-int(age)\n",
    "weeks= years*52\n",
    "print(f\"You have {weeks} weeks left.\")"
   ]
  },
  {
   "cell_type": "code",
   "execution_count": 4,
   "metadata": {},
   "outputs": [
    {
     "name": "stdout",
     "output_type": "stream",
     "text": [
      "Welcome to the tip calculator!\n",
      "Each person should pay:$207.9\n"
     ]
    }
   ],
   "source": [
    "## Day2 Project- Tip Calculator\n",
    "print(\"Welcome to the tip calculator!\")\n",
    "bill= int(input(\"What was the total bill? $\"))\n",
    "tip= int(input(\"How much tip would you like to give? 10, 12, or 15?\"))\n",
    "people= int(input(\"How many people to split the bill?\"))\n",
    "amounteach= bill*(1+(tip)/100)/people\n",
    "amounteach= round(amounteach,2)\n",
    "print(f\"Each person should pay:${amounteach}\")\n",
    "\n"
   ]
  }
 ],
 "metadata": {
  "kernelspec": {
   "display_name": "base",
   "language": "python",
   "name": "python3"
  },
  "language_info": {
   "codemirror_mode": {
    "name": "ipython",
    "version": 3
   },
   "file_extension": ".py",
   "mimetype": "text/x-python",
   "name": "python",
   "nbconvert_exporter": "python",
   "pygments_lexer": "ipython3",
   "version": "3.9.13"
  }
 },
 "nbformat": 4,
 "nbformat_minor": 2
}
